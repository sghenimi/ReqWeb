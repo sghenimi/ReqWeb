{
 "cells": [
  {
   "cell_type": "code",
   "execution_count": 5,
   "id": "059e7746",
   "metadata": {},
   "outputs": [],
   "source": [
    "class AwaitableClass:\n",
    "    def __await__(self):\n",
    "        print((\"in awaitable class\"))\n",
    "        yield \"yielded\"\n"
   ]
  },
  {
   "cell_type": "code",
   "execution_count": 6,
   "id": "aed12790",
   "metadata": {},
   "outputs": [],
   "source": [
    "async def main():\n",
    "    await AwaitableClass()"
   ]
  },
  {
   "cell_type": "code",
   "execution_count": 7,
   "id": "7e18d7a9",
   "metadata": {},
   "outputs": [
    {
     "name": "stdout",
     "output_type": "stream",
     "text": [
      "in awaitable class\n"
     ]
    },
    {
     "data": {
      "text/plain": [
       "'yielded'"
      ]
     },
     "execution_count": 7,
     "metadata": {},
     "output_type": "execute_result"
    }
   ],
   "source": [
    "my_coroutine = main()\n",
    "my_coroutine.send(None)"
   ]
  },
  {
   "cell_type": "code",
   "execution_count": 38,
   "id": "b067b862",
   "metadata": {},
   "outputs": [],
   "source": [
    "class AwaitableClass2:\n",
    "    def __await__(self):\n",
    "        print((\"Step 1\"))\n",
    "        yield \"yield 1\"\n",
    "        print((\"Step 2\"))\n",
    "        yield \"yield 2\"\n",
    "        return \"OK Returned\""
   ]
  },
  {
   "cell_type": "code",
   "execution_count": 39,
   "id": "127d1017",
   "metadata": {},
   "outputs": [],
   "source": [
    "async def main2():\n",
    "    await AwaitableClass2()"
   ]
  },
  {
   "cell_type": "code",
   "execution_count": 40,
   "id": "894e4be3",
   "metadata": {},
   "outputs": [],
   "source": [
    "coro = main2()\n"
   ]
  },
  {
   "cell_type": "code",
   "execution_count": 45,
   "id": "347db0c8",
   "metadata": {},
   "outputs": [
    {
     "name": "stdout",
     "output_type": "stream",
     "text": [
      "Problem caused by cannot reuse already awaited coroutine as <class 'RuntimeError'>\n"
     ]
    },
    {
     "ename": "RuntimeError",
     "evalue": "cannot reuse already awaited coroutine",
     "output_type": "error",
     "traceback": [
      "\u001b[31m---------------------------------------------------------------------------\u001b[39m",
      "\u001b[31mRuntimeError\u001b[39m                              Traceback (most recent call last)",
      "\u001b[36mCell\u001b[39m\u001b[36m \u001b[39m\u001b[32mIn[45]\u001b[39m\u001b[32m, line 2\u001b[39m\n\u001b[32m      1\u001b[39m \u001b[38;5;28;01mtry\u001b[39;00m:\n\u001b[32m----> \u001b[39m\u001b[32m2\u001b[39m     \u001b[43mcoro\u001b[49m\u001b[43m.\u001b[49m\u001b[43msend\u001b[49m\u001b[43m(\u001b[49m\u001b[38;5;28;43;01mNone\u001b[39;49;00m\u001b[43m)\u001b[49m\n\u001b[32m      3\u001b[39m \u001b[38;5;28;01mexcept\u001b[39;00m \u001b[38;5;167;01mException\u001b[39;00m \u001b[38;5;28;01mas\u001b[39;00m e:\n\u001b[32m      4\u001b[39m     \u001b[38;5;28mprint\u001b[39m(\u001b[33mf\u001b[39m\u001b[33m\"\u001b[39m\u001b[33mProblem caused by \u001b[39m\u001b[38;5;132;01m{\u001b[39;00me\u001b[38;5;132;01m}\u001b[39;00m\u001b[33m as \u001b[39m\u001b[38;5;132;01m{\u001b[39;00m\u001b[38;5;28mtype\u001b[39m(e)\u001b[38;5;132;01m}\u001b[39;00m\u001b[33m\"\u001b[39m)\n",
      "\u001b[31mRuntimeError\u001b[39m: cannot reuse already awaited coroutine"
     ]
    }
   ],
   "source": [
    "try:\n",
    "    coro.send(None)\n",
    "except Exception as e:\n",
    "    print(f\"Problem caused by {e} as {type(e)}\")\n",
    "    raise"
   ]
  },
  {
   "cell_type": "code",
   "execution_count": null,
   "id": "c24de677",
   "metadata": {},
   "outputs": [
    {
     "name": "stdout",
     "output_type": "stream",
     "text": [
      "Problem caused by cannot reuse already awaited coroutine as <class 'RuntimeError'>\n"
     ]
    }
   ],
   "source": [
    "try:\n",
    "    coro.send(None)\n",
    "except Exception as e:\n",
    "    print(f\"Problem caused by {e} as {type(e)}\")\n",
    "    raise"
   ]
  },
  {
   "cell_type": "code",
   "execution_count": null,
   "id": "ceb08d49",
   "metadata": {},
   "outputs": [
    {
     "ename": "StopIteration",
     "evalue": "",
     "output_type": "error",
     "traceback": [
      "\u001b[31m---------------------------------------------------------------------------\u001b[39m",
      "\u001b[31mStopIteration\u001b[39m                             Traceback (most recent call last)",
      "\u001b[36mCell\u001b[39m\u001b[36m \u001b[39m\u001b[32mIn[34]\u001b[39m\u001b[32m, line 1\u001b[39m\n\u001b[32m----> \u001b[39m\u001b[32m1\u001b[39m \u001b[43mcoro\u001b[49m\u001b[43m.\u001b[49m\u001b[43msend\u001b[49m\u001b[43m(\u001b[49m\u001b[38;5;28;43;01mNone\u001b[39;49;00m\u001b[43m)\u001b[49m\n",
      "\u001b[31mStopIteration\u001b[39m: "
     ]
    }
   ],
   "source": [
    "try:\n",
    "    coro.send(None)\n",
    "except Exception as e:\n",
    "    print(f\"Problem caused by {e} as {type(e)}\")\n",
    "    raise"
   ]
  },
  {
   "cell_type": "code",
   "execution_count": null,
   "id": "4e78e298",
   "metadata": {},
   "outputs": [
    {
     "ename": "RuntimeError",
     "evalue": "cannot reuse already awaited coroutine",
     "output_type": "error",
     "traceback": [
      "\u001b[31m---------------------------------------------------------------------------\u001b[39m",
      "\u001b[31mRuntimeError\u001b[39m                              Traceback (most recent call last)",
      "\u001b[36mCell\u001b[39m\u001b[36m \u001b[39m\u001b[32mIn[35]\u001b[39m\u001b[32m, line 2\u001b[39m\n\u001b[32m      1\u001b[39m \u001b[38;5;28;01mtry\u001b[39;00m:\n\u001b[32m----> \u001b[39m\u001b[32m2\u001b[39m     \u001b[43mcoro\u001b[49m\u001b[43m.\u001b[49m\u001b[43msend\u001b[49m\u001b[43m(\u001b[49m\u001b[38;5;28;43;01mNone\u001b[39;49;00m\u001b[43m)\u001b[49m\n\u001b[32m      3\u001b[39m \u001b[38;5;28;01mexcept\u001b[39;00m \u001b[38;5;167;01mStopAsyncIteration\u001b[39;00m \u001b[38;5;28;01mas\u001b[39;00m e:\n\u001b[32m      4\u001b[39m     \u001b[38;5;28mprint\u001b[39m(\u001b[33mf\u001b[39m\u001b[33m\"\u001b[39m\u001b[33mProblem caused by \u001b[39m\u001b[38;5;132;01m{\u001b[39;00me\u001b[38;5;132;01m}\u001b[39;00m\u001b[33m\"\u001b[39m)\n",
      "\u001b[31mRuntimeError\u001b[39m: cannot reuse already awaited coroutine"
     ]
    }
   ],
   "source": [
    "try:\n",
    "    coro.send(None)\n",
    "except Exception as e:\n",
    "    print(f\"Problem caused by {e} as {type(e)}\")"
   ]
  }
 ],
 "metadata": {
  "kernelspec": {
   "display_name": "reqweb",
   "language": "python",
   "name": "python3"
  },
  "language_info": {
   "codemirror_mode": {
    "name": "ipython",
    "version": 3
   },
   "file_extension": ".py",
   "mimetype": "text/x-python",
   "name": "python",
   "nbconvert_exporter": "python",
   "pygments_lexer": "ipython3",
   "version": "3.12.11"
  }
 },
 "nbformat": 4,
 "nbformat_minor": 5
}
