{
 "cells": [
  {
   "cell_type": "code",
   "execution_count": null,
   "id": "be0ebd2c",
   "metadata": {},
   "outputs": [],
   "source": [
    "import time\n",
    "import math"
   ]
  },
  {
   "cell_type": "code",
   "execution_count": 14,
   "id": "94aedf2b",
   "metadata": {},
   "outputs": [],
   "source": [
    "def timer(fn):\n",
    "    def wrapper(*args, **kargs):\n",
    "        start = time.perf_counter()\n",
    "        result = fn(*args, **kargs)\n",
    "        print(f\"Takes {time.perf_counter() - start} seconds\")\n",
    "        return result\n",
    "    return wrapper\n"
   ]
  },
  {
   "cell_type": "code",
   "execution_count": 8,
   "id": "6017ba39",
   "metadata": {},
   "outputs": [],
   "source": [
    "def sum_suite(n):\n",
    "    for x in range(n):\n",
    "        print(f\"for {x}: \", x**n)\n",
    "    return sum(x**n for x in range(n))"
   ]
  },
  {
   "cell_type": "code",
   "execution_count": 11,
   "id": "ffd49aa8",
   "metadata": {},
   "outputs": [
    {
     "name": "stdout",
     "output_type": "stream",
     "text": [
      "for 0:  0\n",
      "for 1:  1\n",
      "for 2:  32\n",
      "for 3:  243\n",
      "for 4:  1024\n"
     ]
    },
    {
     "data": {
      "text/plain": [
       "1300"
      ]
     },
     "execution_count": 11,
     "metadata": {},
     "output_type": "execute_result"
    }
   ],
   "source": [
    "sum_suite(5)"
   ]
  },
  {
   "cell_type": "code",
   "execution_count": null,
   "id": "2a08423c",
   "metadata": {},
   "outputs": [],
   "source": [
    "@timer\n",
    "def sum_suite(n):\n",
    "    \"sum for a suite\"\n",
    "    #for x in range(n):\n",
    "    #    print(f\"for {x}: \", x**n)\n",
    "    return sum(x**5 for x in range(n))"
   ]
  },
  {
   "cell_type": "code",
   "execution_count": 32,
   "id": "de10c139",
   "metadata": {},
   "outputs": [
    {
     "name": "stdout",
     "output_type": "stream",
     "text": [
      "Takes 0.1015274999954272 seconds\n"
     ]
    },
    {
     "data": {
      "text/plain": [
       "166666166667083333333333250000000000"
      ]
     },
     "execution_count": 32,
     "metadata": {},
     "output_type": "execute_result"
    }
   ],
   "source": [
    "sum_suite(1_000_000)"
   ]
  },
  {
   "cell_type": "code",
   "execution_count": 33,
   "id": "e8737fe2",
   "metadata": {},
   "outputs": [
    {
     "name": "stdout",
     "output_type": "stream",
     "text": [
      "Help on function wrapper in module __main__:\n",
      "\n",
      "wrapper(*args, **kargs)\n",
      "\n"
     ]
    }
   ],
   "source": [
    "help(sum_suite)"
   ]
  },
  {
   "cell_type": "code",
   "execution_count": 39,
   "id": "56c8ce52",
   "metadata": {},
   "outputs": [],
   "source": [
    "from functools import wraps\n",
    "def trace_call(fn):\n",
    "    @wraps(fn)\n",
    "    def wrapper(*args, **kargs):\n",
    "        #wrapper.called = wrapper.called + 1\n",
    "        result = fn(*args, **kargs)\n",
    "        return result\n",
    "    \n",
    "    #wrapper.called = 0\n",
    "    return wrapper"
   ]
  },
  {
   "cell_type": "code",
   "execution_count": 42,
   "id": "e33d3bb5",
   "metadata": {},
   "outputs": [],
   "source": [
    "@trace_call\n",
    "def sum_suite(n):\n",
    "    \"doc for function to sum a suite\"\n",
    "    for x in range(n):\n",
    "        print(f\"for {x}: \", x**n)\n",
    "    return sum(x**5 for x in range(n))"
   ]
  },
  {
   "cell_type": "code",
   "execution_count": 43,
   "id": "fd1b17f1",
   "metadata": {},
   "outputs": [
    {
     "name": "stdout",
     "output_type": "stream",
     "text": [
      "Help on function sum_suite in module __main__:\n",
      "\n",
      "sum_suite(n)\n",
      "    doc for function to sum a suite\n",
      "\n"
     ]
    }
   ],
   "source": [
    "help(sum_suite)"
   ]
  },
  {
   "cell_type": "code",
   "execution_count": 44,
   "id": "3ddafd6d",
   "metadata": {},
   "outputs": [
    {
     "name": "stdout",
     "output_type": "stream",
     "text": [
      "for 0:  0\n",
      "for 1:  1\n",
      "for 2:  1024\n",
      "for 3:  59049\n",
      "for 4:  1048576\n",
      "for 5:  9765625\n",
      "for 6:  60466176\n",
      "for 7:  282475249\n",
      "for 8:  1073741824\n",
      "for 9:  3486784401\n"
     ]
    },
    {
     "data": {
      "text/plain": [
       "120825"
      ]
     },
     "execution_count": 44,
     "metadata": {},
     "output_type": "execute_result"
    }
   ],
   "source": [
    "sum_suite(10)"
   ]
  }
 ],
 "metadata": {
  "kernelspec": {
   "display_name": "reqweb",
   "language": "python",
   "name": "python3"
  },
  "language_info": {
   "codemirror_mode": {
    "name": "ipython",
    "version": 3
   },
   "file_extension": ".py",
   "mimetype": "text/x-python",
   "name": "python",
   "nbconvert_exporter": "python",
   "pygments_lexer": "ipython3",
   "version": "3.12.11"
  }
 },
 "nbformat": 4,
 "nbformat_minor": 5
}
