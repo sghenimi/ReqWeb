{
 "cells": [
  {
   "cell_type": "code",
   "execution_count": 1,
   "id": "f0e583d6",
   "metadata": {},
   "outputs": [],
   "source": [
    "class Phrase:\n",
    "    ma_phrase = \"I'm a phrase\""
   ]
  },
  {
   "cell_type": "code",
   "execution_count": 7,
   "id": "50e42f40",
   "metadata": {},
   "outputs": [],
   "source": [
    "instance_p = Phrase()"
   ]
  },
  {
   "cell_type": "code",
   "execution_count": 8,
   "id": "5a54d91c",
   "metadata": {},
   "outputs": [
    {
     "data": {
      "text/plain": [
       "<__main__.Phrase at 0x1043acbc0>"
      ]
     },
     "execution_count": 8,
     "metadata": {},
     "output_type": "execute_result"
    }
   ],
   "source": [
    "instance_p"
   ]
  },
  {
   "cell_type": "code",
   "execution_count": 9,
   "id": "5586a1a8",
   "metadata": {},
   "outputs": [
    {
     "data": {
      "text/plain": [
       "mappingproxy({'__module__': '__main__',\n",
       "              'ma_phrase': \"I'm a phrase\",\n",
       "              '__dict__': <attribute '__dict__' of 'Phrase' objects>,\n",
       "              '__weakref__': <attribute '__weakref__' of 'Phrase' objects>,\n",
       "              '__doc__': None})"
      ]
     },
     "execution_count": 9,
     "metadata": {},
     "output_type": "execute_result"
    }
   ],
   "source": [
    "vars(Phrase)"
   ]
  },
  {
   "cell_type": "code",
   "execution_count": 10,
   "id": "86d5ac3b",
   "metadata": {},
   "outputs": [
    {
     "data": {
      "text/plain": [
       "{}"
      ]
     },
     "execution_count": 10,
     "metadata": {},
     "output_type": "execute_result"
    }
   ],
   "source": [
    "vars(instance_p)"
   ]
  },
  {
   "cell_type": "code",
   "execution_count": 11,
   "id": "23916229",
   "metadata": {},
   "outputs": [
    {
     "data": {
      "text/plain": [
       "\"I'm a phrase\""
      ]
     },
     "execution_count": 11,
     "metadata": {},
     "output_type": "execute_result"
    }
   ],
   "source": [
    "Phrase.ma_phrase"
   ]
  },
  {
   "cell_type": "code",
   "execution_count": 12,
   "id": "c5d144a5",
   "metadata": {},
   "outputs": [],
   "source": [
    "Phrase.mots = Phrase.ma_phrase.split(' ')"
   ]
  },
  {
   "cell_type": "code",
   "execution_count": 13,
   "id": "9c1e9467",
   "metadata": {},
   "outputs": [
    {
     "data": {
      "text/plain": [
       "[\"I'm\", 'a', 'phrase']"
      ]
     },
     "execution_count": 13,
     "metadata": {},
     "output_type": "execute_result"
    }
   ],
   "source": [
    "Phrase.mots"
   ]
  },
  {
   "cell_type": "code",
   "execution_count": null,
   "id": "76df3eef",
   "metadata": {},
   "outputs": [],
   "source": [
    "class Phrase:\n",
    "    def __init__(self, maphrase):\n",
    "        self.ma_phrase = maphrase\n",
    "        self.mots = maphrase.split()\n",
    "    \n",
    "    def nb_mots(self):\n",
    "        return len(self.mots)\n",
    "    \n",
    "    # __len__\n",
    "    # __contains__\n",
    "    # __str__\n"
   ]
  },
  {
   "cell_type": "code",
   "execution_count": 19,
   "id": "6d6bb183",
   "metadata": {},
   "outputs": [],
   "source": [
    "class C1:\n",
    "    ...\n",
    "\n",
    "class C2:\n",
    "    ..."
   ]
  },
  {
   "cell_type": "code",
   "execution_count": 20,
   "id": "35cb265a",
   "metadata": {},
   "outputs": [],
   "source": [
    "class B(C1, C2):\n",
    "    ..."
   ]
  },
  {
   "cell_type": "code",
   "execution_count": 22,
   "id": "ee3b1cef",
   "metadata": {},
   "outputs": [
    {
     "data": {
      "text/plain": [
       "type"
      ]
     },
     "execution_count": 22,
     "metadata": {},
     "output_type": "execute_result"
    }
   ],
   "source": [
    "B.__class__"
   ]
  },
  {
   "cell_type": "code",
   "execution_count": 23,
   "id": "d3ece1d8",
   "metadata": {},
   "outputs": [
    {
     "data": {
      "text/plain": [
       "(__main__.C1, __main__.C2)"
      ]
     },
     "execution_count": 23,
     "metadata": {},
     "output_type": "execute_result"
    }
   ],
   "source": [
    "B.__bases__"
   ]
  },
  {
   "cell_type": "code",
   "execution_count": 36,
   "id": "6df73e0f",
   "metadata": {},
   "outputs": [],
   "source": [
    "class B(C2, C1):\n",
    "    ..."
   ]
  },
  {
   "cell_type": "code",
   "execution_count": 37,
   "id": "16ef2aad",
   "metadata": {},
   "outputs": [
    {
     "data": {
      "text/plain": [
       "[__main__.B, __main__.C2, __main__.C1, object]"
      ]
     },
     "execution_count": 37,
     "metadata": {},
     "output_type": "execute_result"
    }
   ],
   "source": [
    "B.mro()"
   ]
  },
  {
   "cell_type": "code",
   "execution_count": 45,
   "id": "4dcfc382",
   "metadata": {},
   "outputs": [
    {
     "name": "stdout",
     "output_type": "stream",
     "text": [
      "a :  2\n",
      "C.a :  2\n",
      "5\n"
     ]
    }
   ],
   "source": [
    "a = 3\n",
    "class C:\n",
    "    a = 2\n",
    "    b = 5\n",
    "    def fn(self):\n",
    "        print(\"a : \", self.a)\n",
    "        print(\"C.a : \", self.a)\n",
    "        print(self.b)\n",
    "\n",
    "instc = C()\n",
    "instc.fn()"
   ]
  },
  {
   "cell_type": "code",
   "execution_count": null,
   "id": "64c92eff",
   "metadata": {},
   "outputs": [],
   "source": [
    "from abc import ABC, abstractmethod\n",
    "class Shape(ABC):\n",
    "    def __init__(self):\n",
    "        ...\n",
    "    \n",
    "    @abstractmethod\n",
    "    def calculate_perimeter(self):\n",
    "        ...\n"
   ]
  },
  {
   "cell_type": "code",
   "execution_count": null,
   "id": "3bf1983e",
   "metadata": {},
   "outputs": [],
   "source": [
    "class Circle(Shape):\n",
    "    ..."
   ]
  }
 ],
 "metadata": {
  "kernelspec": {
   "display_name": "reqweb",
   "language": "python",
   "name": "python3"
  },
  "language_info": {
   "codemirror_mode": {
    "name": "ipython",
    "version": 3
   },
   "file_extension": ".py",
   "mimetype": "text/x-python",
   "name": "python",
   "nbconvert_exporter": "python",
   "pygments_lexer": "ipython3",
   "version": "3.12.11"
  }
 },
 "nbformat": 4,
 "nbformat_minor": 5
}
