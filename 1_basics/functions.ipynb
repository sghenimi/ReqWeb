{
 "cells": [
  {
   "cell_type": "code",
   "execution_count": 1,
   "id": "28946a57",
   "metadata": {},
   "outputs": [],
   "source": [
    "myfunc = lambda a, b: a**2 + b + 1"
   ]
  },
  {
   "cell_type": "code",
   "execution_count": 3,
   "id": "ff3f636a",
   "metadata": {},
   "outputs": [
    {
     "data": {
      "text/plain": [
       "8"
      ]
     },
     "execution_count": 3,
     "metadata": {},
     "output_type": "execute_result"
    }
   ],
   "source": [
    "myfunc(2, 3)"
   ]
  },
  {
   "cell_type": "code",
   "execution_count": 15,
   "id": "c8c32466",
   "metadata": {},
   "outputs": [],
   "source": [
    "def image(fn):\n",
    "    for x in range(5):\n",
    "        print(f\"{x} : {fn(x, 1)}\")\n"
   ]
  },
  {
   "cell_type": "code",
   "execution_count": 16,
   "id": "dc94c7e7",
   "metadata": {},
   "outputs": [
    {
     "name": "stdout",
     "output_type": "stream",
     "text": [
      "0 : 2\n",
      "1 : 3\n",
      "2 : 6\n",
      "3 : 11\n",
      "4 : 18\n"
     ]
    }
   ],
   "source": [
    "image(myfunc)"
   ]
  },
  {
   "cell_type": "code",
   "execution_count": 29,
   "id": "d586bf33",
   "metadata": {},
   "outputs": [
    {
     "data": {
      "text/plain": [
       "<map at 0x10a40dd80>"
      ]
     },
     "execution_count": 29,
     "metadata": {},
     "output_type": "execute_result"
    }
   ],
   "source": [
    "mp = map(myfunc, range(10), range(10))\n",
    "mp"
   ]
  },
  {
   "cell_type": "code",
   "execution_count": 30,
   "id": "c8949006",
   "metadata": {},
   "outputs": [
    {
     "data": {
      "text/plain": [
       "[1, 3, 7, 13, 21, 31, 43, 57, 73, 91]"
      ]
     },
     "execution_count": 30,
     "metadata": {},
     "output_type": "execute_result"
    }
   ],
   "source": [
    "list(mp)"
   ]
  }
 ],
 "metadata": {
  "kernelspec": {
   "display_name": "reqweb",
   "language": "python",
   "name": "python3"
  },
  "language_info": {
   "codemirror_mode": {
    "name": "ipython",
    "version": 3
   },
   "file_extension": ".py",
   "mimetype": "text/x-python",
   "name": "python",
   "nbconvert_exporter": "python",
   "pygments_lexer": "ipython3",
   "version": "3.12.11"
  }
 },
 "nbformat": 4,
 "nbformat_minor": 5
}
