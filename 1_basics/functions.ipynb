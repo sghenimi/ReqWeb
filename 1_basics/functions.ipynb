{
 "cells": [
  {
   "cell_type": "code",
   "execution_count": 1,
   "id": "28946a57",
   "metadata": {},
   "outputs": [],
   "source": [
    "myfunc = lambda a, b: a**2 + b + 1"
   ]
  },
  {
   "cell_type": "code",
   "execution_count": 3,
   "id": "ff3f636a",
   "metadata": {},
   "outputs": [
    {
     "data": {
      "text/plain": [
       "8"
      ]
     },
     "execution_count": 3,
     "metadata": {},
     "output_type": "execute_result"
    }
   ],
   "source": [
    "myfunc(2, 3)"
   ]
  },
  {
   "cell_type": "code",
   "execution_count": 15,
   "id": "c8c32466",
   "metadata": {},
   "outputs": [],
   "source": [
    "def image(fn):\n",
    "    for x in range(5):\n",
    "        print(f\"{x} : {fn(x, 1)}\")\n"
   ]
  },
  {
   "cell_type": "code",
   "execution_count": 16,
   "id": "dc94c7e7",
   "metadata": {},
   "outputs": [
    {
     "name": "stdout",
     "output_type": "stream",
     "text": [
      "0 : 2\n",
      "1 : 3\n",
      "2 : 6\n",
      "3 : 11\n",
      "4 : 18\n"
     ]
    }
   ],
   "source": [
    "image(myfunc)"
   ]
  },
  {
   "cell_type": "code",
   "execution_count": 29,
   "id": "d586bf33",
   "metadata": {},
   "outputs": [
    {
     "data": {
      "text/plain": [
       "<map at 0x10a40dd80>"
      ]
     },
     "execution_count": 29,
     "metadata": {},
     "output_type": "execute_result"
    }
   ],
   "source": [
    "mp = map(myfunc, range(10), range(10))\n",
    "mp"
   ]
  },
  {
   "cell_type": "code",
   "execution_count": 30,
   "id": "c8949006",
   "metadata": {},
   "outputs": [
    {
     "data": {
      "text/plain": [
       "[1, 3, 7, 13, 21, 31, 43, 57, 73, 91]"
      ]
     },
     "execution_count": 30,
     "metadata": {},
     "output_type": "execute_result"
    }
   ],
   "source": [
    "list(mp)"
   ]
  },
  {
   "cell_type": "code",
   "execution_count": null,
   "id": "1ff3940f",
   "metadata": {},
   "outputs": [],
   "source": [
    "def calculate_user_discount(age: int, is_premium_member: bool, purchase_amount: float) -> float:\n",
    "   \"\"\"Calculate discount percentage based on user profile and purchase amount.\"\"\"\n",
    "   if age >= 65:\n",
    "       base_discount = 0.15\n",
    "   elif is_premium_member:\n",
    "       base_discount = 0.10\n",
    "   else:\n",
    "       base_discount = 0.05\n",
    "  \n",
    "   return purchase_amount * base_discount"
   ]
  },
  {
   "cell_type": "code",
   "execution_count": 3,
   "id": "f7579de0",
   "metadata": {},
   "outputs": [
    {
     "name": "stdout",
     "output_type": "stream",
     "text": [
      "0.5\n"
     ]
    }
   ],
   "source": [
    "# This runs without error, even though types are completely wrong!\n",
    "discount = calculate_user_discount(True, 1, 5)\n",
    "print(discount)  # Output: 0.5 (True becomes 1, 1 is truthy, so 5 * 0.10)"
   ]
  },
  {
   "cell_type": "code",
   "execution_count": 5,
   "id": "e67fd22d",
   "metadata": {},
   "outputs": [
    {
     "name": "stdout",
     "output_type": "stream",
     "text": [
      "User created: Alice Johnson, Age: 28\n",
      "Model output: {'name': 'Alice Johnson', 'email': 'alice@example.com', 'age': 28, 'is_active': True, 'created_at': None}\n"
     ]
    }
   ],
   "source": [
    "from pydantic import BaseModel, EmailStr\n",
    "from typing import Optional\n",
    "from datetime import datetime\n",
    "\n",
    "class User(BaseModel):\n",
    "   name: str\n",
    "   email: EmailStr\n",
    "   age: int\n",
    "   is_active: bool = True\n",
    "   created_at: datetime = None\n",
    "\n",
    "# Test with clean data\n",
    "clean_data = {\n",
    "   \"name\": \"Alice Johnson\",\n",
    "   \"email\": \"alice@example.com\",\n",
    "   \"age\": 28\n",
    "}\n",
    "\n",
    "user = User(**clean_data)\n",
    "print(f\"User created: {user.name}, Age: {user.age}\")\n",
    "print(f\"Model output: {user.model_dump()}\")"
   ]
  },
  {
   "cell_type": "code",
   "execution_count": 18,
   "id": "6b3cc702",
   "metadata": {},
   "outputs": [
    {
     "name": "stdout",
     "output_type": "stream",
     "text": [
      "1 validation error for User\n",
      "is_active\n",
      "  Input should be a valid boolean, unable to interpret input [type=bool_parsing, input_value='falseR', input_type=str]\n",
      "    For further information visit https://errors.pydantic.dev/2.12/v/bool_parsing\n",
      "<class 'pydantic_core._pydantic_core.ValidationError'>\n",
      "Age type: <class 'int'> : 35\n",
      "Is active type: <class 'bool'> : False\n"
     ]
    }
   ],
   "source": [
    "from pydantic import ValidationError\n",
    "# Messy data that still works\n",
    "messy_data = {\n",
    "   \"name\": \"Bob Smith\",\n",
    "   \"email\": \"bob@company.com\",\n",
    "   \"age\": \"35\",  # String instead of int\n",
    "   \"is_active\": \"falseR\"  # String instead of bool\n",
    "}\n",
    "\n",
    "try:\n",
    "    user = User(**messy_data)\n",
    "except ValidationError as err:\n",
    "    print(err)\n",
    "    print(type(err))\n",
    "\n",
    "print(f\"Age type: {type(user.age)} : {user.age}\")  # <class 'int'>\n",
    "print(f\"Is active type: {type(user.is_active)} : {user.is_active}\")  # <class 'bool'>"
   ]
  },
  {
   "cell_type": "code",
   "execution_count": 20,
   "id": "649a5985",
   "metadata": {},
   "outputs": [],
   "source": [
    "from dataclasses import dataclass\n",
    "\n",
    "@dataclass\n",
    "class Product:\n",
    "   label: str\n",
    "   price: float\n",
    "   in_stock: bool\n",
    "\n",
    "# Fast, simple, but no validation\n",
    "product = Product(\"Laptop\", 999.99, True)\n",
    "\n",
    "# This also works, even though types are wrong:\n",
    "broken_product = Product(123, \"expensive\", \"maybe\")"
   ]
  }
 ],
 "metadata": {
  "kernelspec": {
   "display_name": "reqweb",
   "language": "python",
   "name": "python3"
  },
  "language_info": {
   "codemirror_mode": {
    "name": "ipython",
    "version": 3
   },
   "file_extension": ".py",
   "mimetype": "text/x-python",
   "name": "python",
   "nbconvert_exporter": "python",
   "pygments_lexer": "ipython3",
   "version": "3.12.11"
  }
 },
 "nbformat": 4,
 "nbformat_minor": 5
}
