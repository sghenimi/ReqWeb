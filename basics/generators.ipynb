{
 "cells": [
  {
   "cell_type": "code",
   "execution_count": 4,
   "id": "76dbf0e9",
   "metadata": {},
   "outputs": [
    {
     "data": {
      "text/plain": [
       "332833500"
      ]
     },
     "execution_count": 4,
     "metadata": {},
     "output_type": "execute_result"
    }
   ],
   "source": [
    "carre = [x**2 for x in range(1000)]\n",
    "sum(carre)"
   ]
  },
  {
   "cell_type": "code",
   "execution_count": 5,
   "id": "f47bb6b1",
   "metadata": {},
   "outputs": [],
   "source": [
    "carre = (x**2 for x in range(100))"
   ]
  },
  {
   "cell_type": "code",
   "execution_count": 6,
   "id": "cc9bba34",
   "metadata": {},
   "outputs": [
    {
     "data": {
      "text/plain": [
       "<generator object <genexpr> at 0x106cf20c0>"
      ]
     },
     "execution_count": 6,
     "metadata": {},
     "output_type": "execute_result"
    }
   ],
   "source": [
    "carre"
   ]
  },
  {
   "cell_type": "code",
   "execution_count": 7,
   "id": "7797eaa4",
   "metadata": {},
   "outputs": [
    {
     "data": {
      "text/plain": [
       "328350"
      ]
     },
     "execution_count": 7,
     "metadata": {},
     "output_type": "execute_result"
    }
   ],
   "source": [
    "sum(carre)"
   ]
  },
  {
   "cell_type": "code",
   "execution_count": 8,
   "id": "4e92c19b",
   "metadata": {},
   "outputs": [
    {
     "ename": "StopIteration",
     "evalue": "",
     "output_type": "error",
     "traceback": [
      "\u001b[31m---------------------------------------------------------------------------\u001b[39m",
      "\u001b[31mStopIteration\u001b[39m                             Traceback (most recent call last)",
      "\u001b[36mCell\u001b[39m\u001b[36m \u001b[39m\u001b[32mIn[8]\u001b[39m\u001b[32m, line 1\u001b[39m\n\u001b[32m----> \u001b[39m\u001b[32m1\u001b[39m \u001b[38;5;28;43mnext\u001b[39;49m\u001b[43m(\u001b[49m\u001b[43mcarre\u001b[49m\u001b[43m)\u001b[49m\n",
      "\u001b[31mStopIteration\u001b[39m: "
     ]
    }
   ],
   "source": [
    "next(carre)"
   ]
  },
  {
   "cell_type": "code",
   "execution_count": 10,
   "id": "5eaeb489",
   "metadata": {},
   "outputs": [],
   "source": [
    "gen_carre = (x**2 for x in range(1_000))\n",
    "list_palindromes = (x for x in gen_carre if str(x) == str(x)[::-1])"
   ]
  },
  {
   "cell_type": "code",
   "execution_count": 12,
   "id": "3f6b1fed",
   "metadata": {},
   "outputs": [
    {
     "data": {
      "text/plain": [
       "[0,\n",
       " 1,\n",
       " 4,\n",
       " 9,\n",
       " 121,\n",
       " 484,\n",
       " 676,\n",
       " 10201,\n",
       " 12321,\n",
       " 14641,\n",
       " 40804,\n",
       " 44944,\n",
       " 69696,\n",
       " 94249,\n",
       " 698896]"
      ]
     },
     "execution_count": 12,
     "metadata": {},
     "output_type": "execute_result"
    }
   ],
   "source": [
    "list(list_palindromes)"
   ]
  },
  {
   "cell_type": "code",
   "execution_count": 13,
   "id": "70368e7b",
   "metadata": {},
   "outputs": [],
   "source": [
    "def my_generator(x):\n",
    "    yield x\n",
    "    x = x + 1\n",
    "    yield x"
   ]
  },
  {
   "cell_type": "code",
   "execution_count": 14,
   "id": "956e952b",
   "metadata": {},
   "outputs": [
    {
     "data": {
      "text/plain": [
       "<function __main__.my_generator(x)>"
      ]
     },
     "execution_count": 14,
     "metadata": {},
     "output_type": "execute_result"
    }
   ],
   "source": [
    "my_generator"
   ]
  },
  {
   "cell_type": "code",
   "execution_count": 17,
   "id": "71d26271",
   "metadata": {},
   "outputs": [
    {
     "data": {
      "text/plain": [
       "<generator object my_generator at 0x107e17700>"
      ]
     },
     "execution_count": 17,
     "metadata": {},
     "output_type": "execute_result"
    }
   ],
   "source": [
    "my_generator(10)"
   ]
  },
  {
   "cell_type": "code",
   "execution_count": 18,
   "id": "30b7fb4e",
   "metadata": {},
   "outputs": [
    {
     "ename": "TypeError",
     "evalue": "'function' object is not an iterator",
     "output_type": "error",
     "traceback": [
      "\u001b[31m---------------------------------------------------------------------------\u001b[39m",
      "\u001b[31mTypeError\u001b[39m                                 Traceback (most recent call last)",
      "\u001b[36mCell\u001b[39m\u001b[36m \u001b[39m\u001b[32mIn[18]\u001b[39m\u001b[32m, line 1\u001b[39m\n\u001b[32m----> \u001b[39m\u001b[32m1\u001b[39m \u001b[38;5;28;43mnext\u001b[39;49m\u001b[43m(\u001b[49m\u001b[43mmy_generator\u001b[49m\u001b[43m)\u001b[49m\n",
      "\u001b[31mTypeError\u001b[39m: 'function' object is not an iterator"
     ]
    }
   ],
   "source": [
    "next(my_generator)"
   ]
  },
  {
   "cell_type": "code",
   "execution_count": 19,
   "id": "fb4a2042",
   "metadata": {},
   "outputs": [
    {
     "data": {
      "text/plain": [
       "10"
      ]
     },
     "execution_count": 19,
     "metadata": {},
     "output_type": "execute_result"
    }
   ],
   "source": [
    "g = my_generator(10)\n",
    "next(g)"
   ]
  },
  {
   "cell_type": "code",
   "execution_count": 20,
   "id": "637c0da4",
   "metadata": {},
   "outputs": [
    {
     "data": {
      "text/plain": [
       "11"
      ]
     },
     "execution_count": 20,
     "metadata": {},
     "output_type": "execute_result"
    }
   ],
   "source": [
    "next(g)"
   ]
  },
  {
   "cell_type": "code",
   "execution_count": 21,
   "id": "29cd1406",
   "metadata": {},
   "outputs": [],
   "source": [
    "def gen_carre(a, b):\n",
    "    for i in range(a, b):\n",
    "        yield i**2"
   ]
  },
  {
   "cell_type": "code",
   "execution_count": 22,
   "id": "a732890f",
   "metadata": {},
   "outputs": [],
   "source": [
    "gc = gen_carre(1, 10)"
   ]
  },
  {
   "cell_type": "code",
   "execution_count": 23,
   "id": "46aa4486",
   "metadata": {},
   "outputs": [
    {
     "data": {
      "text/plain": [
       "[1, 4, 9, 16, 25, 36, 49, 64, 81]"
      ]
     },
     "execution_count": 23,
     "metadata": {},
     "output_type": "execute_result"
    }
   ],
   "source": [
    "list(gc)"
   ]
  },
  {
   "cell_type": "code",
   "execution_count": 24,
   "id": "e0f4393c",
   "metadata": {},
   "outputs": [],
   "source": [
    "def gen_palindrome(my_iterator):\n",
    "    for i in my_iterator:\n",
    "        if isinstance(i, (int, str)) and str(i) == str(i)[::-1]:\n",
    "            yield i"
   ]
  },
  {
   "cell_type": "code",
   "execution_count": 28,
   "id": "07d99835",
   "metadata": {},
   "outputs": [],
   "source": [
    "_palindromes = list(gen_palindrome([\"abba\", 23, 11, 232, 20]))"
   ]
  },
  {
   "cell_type": "code",
   "execution_count": 29,
   "id": "58a4ca04",
   "metadata": {},
   "outputs": [
    {
     "data": {
      "text/plain": [
       "['abba', 11, 232]"
      ]
     },
     "execution_count": 29,
     "metadata": {},
     "output_type": "execute_result"
    }
   ],
   "source": [
    "_palindromes"
   ]
  }
 ],
 "metadata": {
  "kernelspec": {
   "display_name": "reqweb",
   "language": "python",
   "name": "python3"
  },
  "language_info": {
   "codemirror_mode": {
    "name": "ipython",
    "version": 3
   },
   "file_extension": ".py",
   "mimetype": "text/x-python",
   "name": "python",
   "nbconvert_exporter": "python",
   "pygments_lexer": "ipython3",
   "version": "3.12.11"
  }
 },
 "nbformat": 4,
 "nbformat_minor": 5
}
